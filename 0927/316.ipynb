{
 "cells": [
  {
   "cell_type": "markdown",
   "metadata": {},
   "source": [
    "### 880. Decoded String at Index\n",
    "\n",
    "You are given an encoded string `s`. To decode the string to a tape, the encoded string is read one character at a time and the following steps are taken:\n",
    "\n",
    "If the character read is a letter, that letter is written onto the tape.\n",
    "If the character read is a digit `d`, the entire current tape is repeatedly written `d - 1` more times in total.\n",
    "Given an integer `k`, return the `kth` letter **(1-indexed)** in the decoded string.\n",
    "\n",
    "#### Example 1:\n",
    "```\n",
    "Input: s = \"leet2code3\", k = 10\n",
    "Output: \"o\"\n",
    "Explanation: The decoded string is \"leetleetcodeleetleetcodeleetleetcode\".\n",
    "The 10th letter in the string is \"o\".\n",
    "```\n",
    "\n",
    "#### Example 3:\n",
    "```\n",
    "Input: s = \"ha22\", k = 5\n",
    "Output: \"h\"\n",
    "Explanation: The decoded string is \"hahahaha\".\n",
    "The 5th letter is \"h\".\n",
    "```\n",
    "\n",
    "#### Example 2:\n",
    "```\n",
    "Input: s = \"a2345678999999999999999\", k = 1\n",
    "Output: \"a\"\n",
    "Explanation: The decoded string is \"a\" repeated 8301530446056247680 times.\n",
    "The 1st letter is \"a\".\n",
    "```\n",
    "\n",
    "#### Constraints:\n",
    "- ``` 2 <= s.length <= 100 ```\n",
    "- `s` consists of lowercase English letters and digits `2` through `9`.\n",
    "- `s` starts with a letter.\n",
    "- `1 <= k <= 10^9`\n",
    "- It is guaranteed that `k` is less than or equal to the length of the decoded string.\n",
    "- The decoded string is guaranteed to have less than `2^63` letters."
   ]
  },
  {
   "cell_type": "code",
   "execution_count": null,
   "metadata": {},
   "outputs": [],
   "source": [
    "class Solution:\n",
    "    def decodeAtIndex(self, s: str, k: int) -> str:\n",
    "        size = 0\n",
    "        for i, c in enumerate(s):\n",
    "            if c.isdigit():\n",
    "                size *= int(c)\n",
    "            else:\n",
    "                size += 1\n",
    "            if k <= size:\n",
    "                break\n",
    "\n",
    "        for c in s[i::-1]:\n",
    "            if c.isdigit():\n",
    "                size /= int(c)\n",
    "                k %= size\n",
    "            else:\n",
    "                if k % size == 0:\n",
    "                    return c\n",
    "                size -= 1"
   ]
  }
 ],
 "metadata": {
  "language_info": {
   "name": "python"
  },
  "orig_nbformat": 4
 },
 "nbformat": 4,
 "nbformat_minor": 2
}
