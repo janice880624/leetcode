{
 "cells": [
  {
   "cell_type": "markdown",
   "metadata": {},
   "source": [
    "### 264. Ugly Number II\n",
    "\n",
    "An **ugly number** is a positive integer whose prime factors are limited to `2`, `3`, and `5`.\n",
    "\n",
    "Given an integer `n`, return the `nth` **ugly number**.\n",
    "\n",
    "#### Example 1:\n",
    "```\n",
    "Input: n = 10\n",
    "Output: 12\n",
    "Explanation: [1, 2, 3, 4, 5, 6, 8, 9, 10, 12] is the sequence of the first 10 ugly numbers.\n",
    "```\n",
    "\n",
    "#### Example 2:\n",
    "```\n",
    "Input: n = 1\n",
    "Output: 1\n",
    "Explanation: 1 has no prime factors, therefore all of its prime factors are limited to 2, 3, and 5.\n",
    "```\n",
    "\n",
    "#### Constraints:\n",
    "- `1 <= n <= 1690`"
   ]
  },
  {
   "cell_type": "code",
   "execution_count": null,
   "metadata": {},
   "outputs": [],
   "source": [
    "def nthUglyNumber(n):\n",
    "    if n == 1:\n",
    "        return 1\n",
    "    minNumber = None\n",
    "    lastUglyNumber = nthUglyNumber(n-1)\n",
    "    for i in range(1, n):\n",
    "        ithUglyNumber = nthUglyNumber(i)\n",
    "        for k in 2, 3, 5:\n",
    "            number = ithUglyNumber*k\n",
    "            if number > lastUglyNumber:\n",
    "                if minNumber == None or number < minNumber:\n",
    "                    minNumber = number\n",
    "    return minNumber\n",
    "class Solution:\n",
    "    def nthUglyNumber(self, n: int) -> int:\n",
    "        return nthUglyNumber(n)"
   ]
  },
  {
   "cell_type": "code",
   "execution_count": null,
   "metadata": {},
   "outputs": [],
   "source": [
    "def nthUglyNumber(N):\n",
    "    cache = [None] *(N+1)\n",
    "    cache[1] = 1\n",
    "\n",
    "    for n in range(2, N+1):\n",
    "        minNumber = None\n",
    "        lastUglyNumber = cache[n-1]\n",
    "        for i in range(1, n):\n",
    "            ithUglyNumber = cache[i]\n",
    "            for k in 2, 3, 5:\n",
    "                number = ithUglyNumber*k\n",
    "                if number > lastUglyNumber:\n",
    "                    if minNumber == None or number < minNumber:\n",
    "                        minNumber = number\n",
    "        cache[n] = minNumber\n",
    "    return cache[N]\n",
    "class Solution:\n",
    "    def nthUglyNumber(self, n: int) -> int:\n",
    "        return nthUglyNumber(n)"
   ]
  },
  {
   "cell_type": "code",
   "execution_count": null,
   "metadata": {},
   "outputs": [],
   "source": [
    "def nthUglyNumber(N):\n",
    "    cache = [None] *(N+1)\n",
    "    cache[1] = 1\n",
    "\n",
    "    min2i = min3i = min5i = 1\n",
    "\n",
    "    for n in range(2, N+1):\n",
    "        minNumber2 = cache[min2i] * 2\n",
    "        minNumber3 = cache[min3i] * 3\n",
    "        minNumber5 = cache[min5i] * 5\n",
    "\n",
    "        cache[n] = min(minNumber2, minNumber3, minNumber5)\n",
    "\n",
    "        if minNumber2 == cache[n]:\n",
    "            min2i += 1\n",
    "        if minNumber3 == cache[n]:\n",
    "            min3i += 1\n",
    "        if minNumber5 == cache[n]:\n",
    "            min5i += 1\n",
    "\n",
    "    return cache[N]\n",
    "class Solution:\n",
    "    def nthUglyNumber(self, n: int) -> int:\n",
    "        return nthUglyNumber(n)"
   ]
  }
 ],
 "metadata": {
  "language_info": {
   "name": "python"
  },
  "orig_nbformat": 4
 },
 "nbformat": 4,
 "nbformat_minor": 2
}
