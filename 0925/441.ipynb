{
 "cells": [
  {
   "cell_type": "markdown",
   "metadata": {},
   "source": [
    "### 441. Arranging Coins\n",
    "\n",
    "You have `n` coins and you want to build a staircase with these coins. The staircase consists of `k` rows where the `ith` row has exactly `i` coins. The last row of the staircase may be incomplete.\n",
    "\n",
    "Given the integer `n`, return the number of **complete rows** of the staircase you will build.\n",
    " \n",
    "\n",
    "#### Example 1:\n",
    "![](https://assets.leetcode.com/uploads/2021/04/09/arrangecoins1-grid.jpg)\n",
    "```\n",
    "Input: n = 5\n",
    "Output: 2\n",
    "Explanation: Because the 3rd row is incomplete, we return 2.\n",
    "```\n",
    "\n",
    "#### Example 2:\n",
    "![](https://assets.leetcode.com/uploads/2021/04/09/arrangecoins2-grid.jpg)\n",
    "```\n",
    "Input: n = 8\n",
    "Output: 3\n",
    "Explanation: Because the 4th row is incomplete, we return 3.\n",
    "```\n",
    "\n",
    "#### Constraints:\n",
    "- `1 <= n <= 2^31 - 1`"
   ]
  },
  {
   "cell_type": "code",
   "execution_count": null,
   "metadata": {},
   "outputs": [],
   "source": [
    "def arrangeCoins(n):\n",
    "    x = 0\n",
    "    k = 1\n",
    "    while True:\n",
    "        x += k\n",
    "        if x > n:\n",
    "            return k-1\n",
    "        k += 1\n",
    "\n",
    "\n",
    "class Solution:\n",
    "    def arrangeCoins(self, n: int) -> int:\n",
    "        return arrangeCoins(n)"
   ]
  },
  {
   "cell_type": "code",
   "execution_count": null,
   "metadata": {},
   "outputs": [],
   "source": []
  }
 ],
 "metadata": {
  "language_info": {
   "name": "python"
  },
  "orig_nbformat": 4
 },
 "nbformat": 4,
 "nbformat_minor": 2
}
