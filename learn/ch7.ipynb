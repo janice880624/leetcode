{
 "cells": [
  {
   "cell_type": "code",
   "execution_count": 1,
   "metadata": {},
   "outputs": [
    {
     "name": "stdout",
     "output_type": "stream",
     "text": [
      "原始陣列內容：\n",
      "[ 0] [ 6] [ 3] [ 5] [ 4] [ 7] [ 8] [ 9] [ 2] \n",
      "二元樹內容：\n",
      "[ 6] [ 3] [ 7] [ 2] [ 5] [ 0] [ 8] [ 0] [ 0] [ 4] [ 0] [ 0] [ 0] [ 0] [ 9] \n"
     ]
    }
   ],
   "source": [
    "def btree_create(btree, data, length):\n",
    "  for i in range(length):\n",
    "    level = 1\n",
    "    while btree[level] != 0:\n",
    "      if data[i] > btree[level]:\n",
    "        level = level * 2 + 1\n",
    "      else:\n",
    "        level = level * 2\n",
    "    btree[level] = data[i]\n",
    "\n",
    "length = 9\n",
    "data = [0, 6, 3, 5, 4, 7, 8, 9, 2]\n",
    "\n",
    "btree = [0] * 16\n",
    "print('原始陣列內容：')\n",
    "for i in range(length):\n",
    "  print('[%2d] ' % data[i], end='')\n",
    "print('')\n",
    "\n",
    "btree_create(btree, data, length)\n",
    "print('二元樹內容：')\n",
    "for i in range(1, 16):\n",
    "  print('[%2d] ' % btree[i], end='')\n",
    "print('')"
   ]
  },
  {
   "cell_type": "code",
   "execution_count": null,
   "metadata": {},
   "outputs": [],
   "source": []
  }
 ],
 "metadata": {
  "kernelspec": {
   "display_name": "Python 3",
   "language": "python",
   "name": "python3"
  },
  "language_info": {
   "codemirror_mode": {
    "name": "ipython",
    "version": 3
   },
   "file_extension": ".py",
   "mimetype": "text/x-python",
   "name": "python",
   "nbconvert_exporter": "python",
   "pygments_lexer": "ipython3",
   "version": "3.6.8"
  },
  "orig_nbformat": 4
 },
 "nbformat": 4,
 "nbformat_minor": 2
}
