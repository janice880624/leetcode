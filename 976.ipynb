{
 "cells": [
  {
   "attachments": {},
   "cell_type": "markdown",
   "metadata": {},
   "source": [
    "### 976. Largest Perimeter Triangle\n",
    "\n",
    "Given an integer array nums, return the largest perimeter of a triangle with a non-zero area, formed from three of these lengths. If it is impossible to form any triangle of a non-zero area, return 0.\n",
    "\n",
    "\n",
    "#### Example 1:\n",
    "```\n",
    "Input: nums = [2,1,2]\n",
    "Output: 5\n",
    "Explanation: You can form a triangle with three side lengths: 1, 2, and 2.\n",
    "```\n",
    "\n",
    "#### Example 2:\n",
    "```\n",
    "Input: nums = [1,2,1,10]\n",
    "Output: 0\n",
    "Explanation: \n",
    "You cannot use the side lengths 1, 1, and 2 to form a triangle.\n",
    "You cannot use the side lengths 1, 1, and 10 to form a triangle.\n",
    "You cannot use the side lengths 1, 2, and 10 to form a triangle.\n",
    "As we cannot use any three side lengths to form a triangle of non-zero area, we return 0.\n",
    "```\n",
    "\n",
    "#### Constraints:\n",
    "- 3 <= nums.length <= 104\n",
    "- 1 <= nums[i] <= 106"
   ]
  },
  {
   "cell_type": "code",
   "execution_count": null,
   "metadata": {},
   "outputs": [],
   "source": [
    "class Solution:\n",
    "    def largestPerimeter(self, nums: List[int]) -> int:\n",
    "        nums.sort()\n",
    "        for i in range(len(nums)-1, 1, -1):\n",
    "            if nums[i-2] + nums[i-1] > nums[i]:\n",
    "                return nums[i-2] + nums[i-1] + nums[i]\n",
    "        return 0"
   ]
  },
  {
   "attachments": {},
   "cell_type": "markdown",
   "metadata": {},
   "source": [
    "### Skill\n",
    "\n",
    "- sort( )\n",
    "  - This method is one of the ways you can sort a list in Python\n",
    "\n",
    "- for loop\n",
    "  ```\n",
    "    for itarator_variable in sequence_name:\n",
    "    Statements\n",
    "    . . .\n",
    "    Statements\n",
    "  ```"
   ]
  },
  {
   "cell_type": "code",
   "execution_count": 2,
   "metadata": {},
   "outputs": [
    {
     "name": "stdout",
     "output_type": "stream",
     "text": [
      "[2, 10, 35, 50, 55, 79, 88, 100]\n"
     ]
    }
   ],
   "source": [
    "test_numbers = [50, 79, 2, 35, 88, 10, 100, 55]\n",
    "test_numbers.sort()\n",
    "print(test_numbers)"
   ]
  },
  {
   "cell_type": "code",
   "execution_count": 3,
   "metadata": {},
   "outputs": [
    {
     "name": "stdout",
     "output_type": "stream",
     "text": [
      "1\n",
      "4\n",
      "7\n",
      "10\n",
      "13\n",
      "16\n",
      "19\n",
      "22\n",
      "25\n",
      "28\n"
     ]
    }
   ],
   "source": [
    "for x in range(1, 30, 3):\n",
    "    print(x)"
   ]
  },
  {
   "cell_type": "code",
   "execution_count": 4,
   "metadata": {},
   "outputs": [
    {
     "name": "stdout",
     "output_type": "stream",
     "text": [
      "30\n",
      "28\n",
      "26\n",
      "24\n",
      "22\n",
      "20\n",
      "18\n",
      "16\n",
      "14\n",
      "12\n",
      "10\n",
      "8\n",
      "6\n",
      "4\n",
      "2\n"
     ]
    }
   ],
   "source": [
    "for x in range(30, 1, -2):\n",
    "    print(x)"
   ]
  },
  {
   "cell_type": "code",
   "execution_count": null,
   "metadata": {},
   "outputs": [],
   "source": []
  }
 ],
 "metadata": {
  "kernelspec": {
   "display_name": "Python 3",
   "language": "python",
   "name": "python3"
  },
  "language_info": {
   "codemirror_mode": {
    "name": "ipython",
    "version": 3
   },
   "file_extension": ".py",
   "mimetype": "text/x-python",
   "name": "python",
   "nbconvert_exporter": "python",
   "pygments_lexer": "ipython3",
   "version": "3.8.0 (tags/v3.8.0:fa919fd, Oct 14 2019, 19:37:50) [MSC v.1916 64 bit (AMD64)]"
  },
  "orig_nbformat": 4,
  "vscode": {
   "interpreter": {
    "hash": "f544ce1a915a9875fad91c894e2c0bcad4b7a79945aa6027ef3ad27810072aa6"
   }
  }
 },
 "nbformat": 4,
 "nbformat_minor": 2
}
