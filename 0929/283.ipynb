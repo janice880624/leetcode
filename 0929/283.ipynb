{
 "cells": [
  {
   "attachments": {},
   "cell_type": "markdown",
   "metadata": {},
   "source": [
    "### 283. Move Zeroes\n",
    "\n",
    "Given an integer array `nums`, move all `0`'s to the end of it while maintaining the relative order of the non-zero elements.\n",
    "\n",
    "Note that you must do this in-place without making a copy of the array.\n",
    "\n",
    "#### Example 1:\n",
    "```\n",
    "Input: nums = [0,1,0,3,12]\n",
    "Output: [1,3,12,0,0]\n",
    "```\n",
    "\n",
    "#### Example 2:\n",
    "```\n",
    "Input: nums = [0]\n",
    "Output: [0]\n",
    "```\n",
    "\n",
    "#### Constraints:\n",
    "- ``` 1 <= nums.length <= 104 ```\n",
    "- ``` -2^31 <= nums[i] <= 2^31 - 1 ```\n"
   ]
  },
  {
   "cell_type": "code",
   "execution_count": null,
   "metadata": {},
   "outputs": [],
   "source": [
    "class Solution:\n",
    "    def moveZeroes(self, nums: List[int]) -> None:\n",
    "        \"\"\"\n",
    "        Do not return anything, modify nums in-place instead.\n",
    "        \"\"\"\n",
    "        pos=0\n",
    "        for i in range(len(nums)):\n",
    "            if nums[i]!=0:\n",
    "                temp = nums[i]\n",
    "                nums[i] = nums[pos]\n",
    "                nums[pos] = temp\n",
    "                pos = pos+1"
   ]
  }
 ],
 "metadata": {
  "kernelspec": {
   "display_name": "Python 3",
   "language": "python",
   "name": "python3"
  },
  "language_info": {
   "name": "python",
   "version": "3.8.0 (tags/v3.8.0:fa919fd, Oct 14 2019, 19:37:50) [MSC v.1916 64 bit (AMD64)]"
  },
  "orig_nbformat": 4,
  "vscode": {
   "interpreter": {
    "hash": "f544ce1a915a9875fad91c894e2c0bcad4b7a79945aa6027ef3ad27810072aa6"
   }
  }
 },
 "nbformat": 4,
 "nbformat_minor": 2
}
