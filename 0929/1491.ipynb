{
 "cells": [
  {
   "attachments": {},
   "cell_type": "markdown",
   "metadata": {},
   "source": [
    "### 896. Monotonic Array\n",
    "\n",
    "An array is monotonic if it is either monotone increasing or monotone decreasing.\n",
    "\n",
    "An array `nums` is monotone increasing if for all `i <= j`, `nums[i] <= nums[j]`. An array `nums` is monotone decreasing if for all `i <= j`, `nums[i] >= nums[j]`.\n",
    "\n",
    "Given an integer array `nums`, return `true` if the given array is monotonic, or `false` otherwise.\n",
    "\n",
    "#### Example 1:\n",
    "```\n",
    "Input: nums = [1,2,2,3]\n",
    "Output: true\n",
    "```\n",
    "\n",
    "#### Example 2:\n",
    "```\n",
    "Input: nums = [6,5,4,4]\n",
    "Output: true\n",
    "```\n",
    "\n",
    "#### Example 3:\n",
    "```\n",
    "Input: nums = [1,3,2]\n",
    "Output: false\n",
    "```\n",
    "\n",
    "\n",
    "#### Constraints:\n",
    "- ``` 1 <= nums.length <= 10^5 ```\n",
    "- ``` -10^5 <= nums[i] <= 10^5 ```\n"
   ]
  },
  {
   "cell_type": "code",
   "execution_count": null,
   "metadata": {},
   "outputs": [],
   "source": [
    "class Solution:\n",
    "    def increase(self, A):\n",
    "        for i in range(len(A)-1):\n",
    "            if A[i] - A[i+1] <= 0:\n",
    "                continue\n",
    "            else:\n",
    "                return False\n",
    "        return True\n",
    "\n",
    "    def decrease(self, A):\n",
    "        for i in range(len(A)-1):\n",
    "            if A[i] - A[i+1] >= 0:\n",
    "                continue\n",
    "            else:\n",
    "                return False\n",
    "        return True\n",
    "\n",
    "    def isMonotonic(self, nums: List[int]) -> bool:\n",
    "        return (self.increase(nums) or self.decrease(nums))\n"
   ]
  }
 ],
 "metadata": {
  "kernelspec": {
   "display_name": "Python 3",
   "language": "python",
   "name": "python3"
  },
  "language_info": {
   "name": "python",
   "version": "3.8.0 (tags/v3.8.0:fa919fd, Oct 14 2019, 19:37:50) [MSC v.1916 64 bit (AMD64)]"
  },
  "orig_nbformat": 4,
  "vscode": {
   "interpreter": {
    "hash": "f544ce1a915a9875fad91c894e2c0bcad4b7a79945aa6027ef3ad27810072aa6"
   }
  }
 },
 "nbformat": 4,
 "nbformat_minor": 2
}
