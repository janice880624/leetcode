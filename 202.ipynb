{
 "cells": [
  {
   "attachments": {},
   "cell_type": "markdown",
   "metadata": {},
   "source": [
    "### 202. Happy Number\n",
    "\n",
    "Write an algorithm to determine if a number `n` is happy.\n",
    "\n",
    "A **happy number** is a number defined by the following process:\n",
    "\n",
    "- Starting with any positive integer, replace the number by the sum of the squares of its digits.\n",
    "- Repeat the process until the number equals 1 (where it will stay), or it **loops endlessly in a cycle** which does not include 1.\n",
    "- Those numbers for which this process **ends in 1** are happy.\n",
    "\n",
    "Return `true` if `n` is a happy number, and `false` if not.\n",
    "\n",
    "#### Example 1:\n",
    "```\n",
    "Input: n = 19\n",
    "Output: true\n",
    "Explanation:\n",
    "12 + 92 = 82\n",
    "82 + 22 = 68\n",
    "62 + 82 = 100\n",
    "12 + 02 + 02 = 1\n",
    "```\n",
    "\n",
    "#### Example 2:\n",
    "```\n",
    "Input: n = 2\n",
    "Output: false\n",
    "```\n",
    "\n",
    "#### Constraints:\n",
    "- ``` 1 <= n <= 2^31 - 1 ```"
   ]
  },
  {
   "cell_type": "code",
   "execution_count": null,
   "metadata": {},
   "outputs": [],
   "source": [
    "class Solution:\n",
    "    def isHappy(self, n: int) -> bool:\n",
    "        num_s = {n}\n",
    "        while n != 1:\n",
    "            num_sum = sum([int(n) ** 2 for n in str(n)])\n",
    "            if num_sum in num_s:\n",
    "                return False\n",
    "            num_s.add(num_sum)\n",
    "            n = num_sum\n",
    "        return True"
   ]
  }
 ],
 "metadata": {
  "kernelspec": {
   "display_name": "Python 3",
   "language": "python",
   "name": "python3"
  },
  "language_info": {
   "name": "python",
   "version": "3.8.0 (tags/v3.8.0:fa919fd, Oct 14 2019, 19:37:50) [MSC v.1916 64 bit (AMD64)]"
  },
  "orig_nbformat": 4,
  "vscode": {
   "interpreter": {
    "hash": "f544ce1a915a9875fad91c894e2c0bcad4b7a79945aa6027ef3ad27810072aa6"
   }
  }
 },
 "nbformat": 4,
 "nbformat_minor": 2
}
