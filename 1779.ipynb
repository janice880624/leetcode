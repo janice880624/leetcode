{
 "cells": [
  {
   "attachments": {},
   "cell_type": "markdown",
   "metadata": {},
   "source": [
    "### 1779. Find Nearest Point That Has the Same X or Y Coordinate\n",
    "\n",
    "You are given two integers, x and y, which represent your current location on a Cartesian grid: (x, y). You are also given an array points where each points[i] = [ai, bi] represents that a point exists at (ai, bi). A point is valid if it shares the same x-coordinate or the same y-coordinate as your location.\n",
    "\n",
    "Return the index (0-indexed) of the valid point with the smallest Manhattan distance from your current location. If there are multiple, return the valid point with the smallest index. If there are no valid points, return -1.\n",
    "\n",
    "The Manhattan distance between two points (x1, y1) and (x2, y2) is abs(x1 - x2) + abs(y1 - y2).\n",
    "\n",
    "\n",
    "#### Example 1:\n",
    "```\n",
    "Input: x = 3, y = 4, points = [[1,2],[3,1],[2,4],[2,3],[4,4]]\n",
    "Output: 2\n",
    "Explanation: Of all the points, only [3,1], [2,4] and [4,4] are valid. Of the valid points, [2,4] and [4,4] have the smallest Manhattan distance from your current location, with a distance of 1. [2,4] has the smallest index, so return 2.\n",
    "```\n",
    "\n",
    "#### Example 2:\n",
    "```\n",
    "Input: x = 3, y = 4, points = [[3,4]]\n",
    "Output: 0\n",
    "Explanation: The answer is allowed to be on the same location as your current location.\n",
    "```\n",
    "\n",
    "#### Example 3:\n",
    "```\n",
    "Input: x = 3, y = 4, points = [[2,3]]\n",
    "Output: -1\n",
    "Explanation: There are no valid points.\n",
    "```\n",
    "\n",
    "#### Constraints:\n",
    "- 1 <= points.length <= 104\n",
    "- points[i].length == 2\n",
    "- 1 <= x, y, ai, bi <= 104"
   ]
  },
  {
   "cell_type": "code",
   "execution_count": null,
   "metadata": {},
   "outputs": [],
   "source": [
    "class Solution:\n",
    "    def nearestValidPoint(self, x: int, y: int, points: List[List[int]]) -> int:\n",
    "        dist, ans = float(\"inf\"), -1\n",
    "\n",
    "        for i in range(len(points)):\n",
    "            a, b = points[i]\n",
    "            if a==x or b==y:\n",
    "                d =  abs(a-x) + abs(b-y)\n",
    "                if d < dist:\n",
    "                    dist, ans = d, i\n",
    "        return ans"
   ]
  },
  {
   "attachments": {},
   "cell_type": "markdown",
   "metadata": {},
   "source": [
    "### Skill\n",
    "\n",
    "- float('inf') and float('-inf')\n",
    "  - As infinity can be both positive and negative they can be represented as a float(‘inf’) and float(‘-inf’) respectively. The below code shows the implementation of the above-discussed content\n",
    "\n",
    "- abs( )\n",
    "    - This function returns the absolute value of the specified number."
   ]
  },
  {
   "cell_type": "code",
   "execution_count": 1,
   "metadata": {},
   "outputs": [
    {
     "name": "stdout",
     "output_type": "stream",
     "text": [
      "Positive Infinity:  inf\n",
      "Negative Infinity:  -inf\n"
     ]
    }
   ],
   "source": [
    "# Defining a positive infinite integer\n",
    "positive_infinity = float('inf')\n",
    "print('Positive Infinity: ', positive_infinity)\n",
    " \n",
    "# Defining a negative infinite integer\n",
    "negative_infinity = float('-inf')\n",
    "print('Negative Infinity: ', negative_infinity)"
   ]
  },
  {
   "cell_type": "code",
   "execution_count": 4,
   "metadata": {},
   "outputs": [
    {
     "name": "stdout",
     "output_type": "stream",
     "text": [
      "5.0\n"
     ]
    }
   ],
   "source": [
    "x = abs(3+4j)\n",
    "print(x)"
   ]
  },
  {
   "cell_type": "code",
   "execution_count": 5,
   "metadata": {},
   "outputs": [
    {
     "name": "stdout",
     "output_type": "stream",
     "text": [
      "1.23\n"
     ]
    }
   ],
   "source": [
    "x = abs(-1.23)\n",
    "print(x)"
   ]
  },
  {
   "cell_type": "code",
   "execution_count": null,
   "metadata": {},
   "outputs": [],
   "source": []
  }
 ],
 "metadata": {
  "kernelspec": {
   "display_name": "Python 3",
   "language": "python",
   "name": "python3"
  },
  "language_info": {
   "codemirror_mode": {
    "name": "ipython",
    "version": 3
   },
   "file_extension": ".py",
   "mimetype": "text/x-python",
   "name": "python",
   "nbconvert_exporter": "python",
   "pygments_lexer": "ipython3",
   "version": "3.8.0"
  },
  "orig_nbformat": 4,
  "vscode": {
   "interpreter": {
    "hash": "f544ce1a915a9875fad91c894e2c0bcad4b7a79945aa6027ef3ad27810072aa6"
   }
  }
 },
 "nbformat": 4,
 "nbformat_minor": 2
}
