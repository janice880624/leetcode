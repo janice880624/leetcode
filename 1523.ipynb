{
 "cells": [
  {
   "attachments": {},
   "cell_type": "markdown",
   "metadata": {},
   "source": [
    "### 1523. Count Odd Numbers in an Interval Range\n",
    "\n",
    "Given two non-negative integers low and high. Return the count of odd numbers between low and high (inclusive).\n",
    "\n",
    "#### Example 1:\n",
    "```\n",
    "Input: low = 3, high = 7\n",
    "Output: 3\n",
    "Explanation: The odd numbers between 3 and 7 are [3,5,7].\n",
    "```\n",
    "\n",
    "#### Example 2:\n",
    "```\n",
    "Input: low = 8, high = 10\n",
    "Output: 1\n",
    "Explanation: The odd numbers between 8 and 10 are [9].\n",
    "```\n",
    "\n",
    "#### Constraints:\n",
    "```\n",
    "0 <= low <= high <= 10^9\n",
    "```"
   ]
  },
  {
   "cell_type": "code",
   "execution_count": null,
   "metadata": {},
   "outputs": [],
   "source": [
    "class Solution:\n",
    "    def countOdds(self, low: int, high: int) -> int:\n",
    "\n",
    "        if (low % 2 == 0):\n",
    "            low += 1 \n",
    "\n",
    "        if (high % 2 == 0):\n",
    "            high -= 1 \n",
    "        \n",
    "        if (high - low == 0):   \n",
    "            return 1\n",
    "\n",
    "        return int((high - low) / 2) + 1"
   ]
  },
  {
   "cell_type": "markdown",
   "metadata": {},
   "source": [
    "### Skill\n",
    "\n",
    "- ```+```\t加\n",
    "- ```-```\t減\n",
    "- ```*```\t乘\n",
    "- ```/```\t除\n",
    "- ```**```\t次方\n",
    "- ```%```\t回傳餘數\n",
    "- ```//```\t回傳商數"
   ]
  },
  {
   "cell_type": "markdown",
   "metadata": {},
   "source": []
  }
 ],
 "metadata": {
  "kernelspec": {
   "display_name": "Python 3.7.0 64-bit",
   "language": "python",
   "name": "python3"
  },
  "language_info": {
   "name": "python",
   "version": "3.7.0"
  },
  "orig_nbformat": 4,
  "vscode": {
   "interpreter": {
    "hash": "23f19e9c2ab0f8ce3e7d3237eab846a77f563743cd4c81db4b0a9ae890216952"
   }
  }
 },
 "nbformat": 4,
 "nbformat_minor": 2
}
