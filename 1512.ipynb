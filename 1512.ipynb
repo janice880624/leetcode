{
 "cells": [
  {
   "attachments": {},
   "cell_type": "markdown",
   "metadata": {},
   "source": [
    "### 1512. Number of Good Pairs\n",
    "\n",
    "Given an array of integers `nums`, return the number of **good pairs**.\n",
    "\n",
    "A pair `(i, j)` is called good if `nums[i] == nums[j]` and `i` < `j`.\n",
    "\n",
    "#### Example 1:\n",
    "```\n",
    "Input: nums = [1,2,3,1,1,3]\n",
    "Output: 4\n",
    "Explanation: There are 4 good pairs (0,3), (0,4), (3,4), (2,5) 0-indexed.\n",
    "```\n",
    "\n",
    "#### Example 2:\n",
    "```\n",
    "Input: nums = [1,1,1,1]\n",
    "Output: 6\n",
    "Explanation: Each pair in the array are good.\n",
    "```\n",
    "\n",
    "\n",
    "#### Example 3:\n",
    "```\n",
    "Input: nums = [1,2,3]\n",
    "Output: 0\n",
    "```\n",
    "\n",
    "#### Constraints:\n",
    "- `1 <= nums.length <= 100`\n",
    "- `1 <= nums[i] <= 100`"
   ]
  },
  {
   "cell_type": "code",
   "execution_count": null,
   "metadata": {},
   "outputs": [],
   "source": [
    "class Solution:\n",
    "    def numIdenticalPairs(self, nums: List[int]) -> int:\n",
    "        result = 0\n",
    "        for i in range(len(nums)):\n",
    "            for j in range (i+1, len(nums)):\n",
    "                if (nums[i] == nums[j]):\n",
    "                    result += 1\n",
    "        return result"
   ]
  },
  {
   "cell_type": "code",
   "execution_count": 5,
   "metadata": {},
   "outputs": [
    {
     "name": "stdout",
     "output_type": "stream",
     "text": [
      "1\n",
      "{1: 1}\n",
      "0\n",
      "---\n",
      "2\n",
      "{1: 1, 2: 1}\n",
      "0\n",
      "---\n",
      "3\n",
      "{1: 1, 2: 1, 3: 1}\n",
      "0\n",
      "---\n",
      "1\n",
      "{1: 2, 2: 1, 3: 1}\n",
      "1\n",
      "---\n",
      "1\n",
      "{1: 3, 2: 1, 3: 1}\n",
      "3\n",
      "---\n",
      "3\n",
      "{1: 3, 2: 1, 3: 2}\n",
      "4\n",
      "---\n"
     ]
    }
   ],
   "source": [
    "nums = [1,2,3,1,1,3]\n",
    "\n",
    "output = 0\n",
    "dict_num = dict()\n",
    "\n",
    "\n",
    "for n in nums:\n",
    "    print(n)\n",
    "    if n in dict_num:\n",
    "        output += dict_num[n]\n",
    "        dict_num[n] += 1\n",
    "    else:\n",
    "        dict_num[n] = 1\n",
    "    print(dict_num)\n",
    "    print(output)\n",
    "    print('---')"
   ]
  },
  {
   "cell_type": "code",
   "execution_count": 6,
   "metadata": {},
   "outputs": [
    {
     "name": "stdout",
     "output_type": "stream",
     "text": [
      "1\n",
      "{1: 1}\n",
      "0\n",
      "---\n",
      "1\n",
      "{1: 2}\n",
      "1\n",
      "---\n",
      "1\n",
      "{1: 3}\n",
      "3\n",
      "---\n",
      "1\n",
      "{1: 4}\n",
      "6\n",
      "---\n"
     ]
    }
   ],
   "source": [
    "nums = [1,1,1,1]\n",
    "\n",
    "output = 0\n",
    "dict_num = dict()\n",
    "\n",
    "\n",
    "for n in nums:\n",
    "    print(n)\n",
    "    if n in dict_num:\n",
    "        output += dict_num[n]\n",
    "        dict_num[n] += 1\n",
    "    else:\n",
    "        dict_num[n] = 1\n",
    "        \n",
    "    print(dict_num)\n",
    "    print(output)\n",
    "    print('---')"
   ]
  },
  {
   "cell_type": "code",
   "execution_count": null,
   "metadata": {},
   "outputs": [],
   "source": []
  }
 ],
 "metadata": {
  "kernelspec": {
   "display_name": "Python 3",
   "language": "python",
   "name": "python3"
  },
  "language_info": {
   "codemirror_mode": {
    "name": "ipython",
    "version": 3
   },
   "file_extension": ".py",
   "mimetype": "text/x-python",
   "name": "python",
   "nbconvert_exporter": "python",
   "pygments_lexer": "ipython3",
   "version": "3.8.0"
  },
  "orig_nbformat": 4,
  "vscode": {
   "interpreter": {
    "hash": "f544ce1a915a9875fad91c894e2c0bcad4b7a79945aa6027ef3ad27810072aa6"
   }
  }
 },
 "nbformat": 4,
 "nbformat_minor": 2
}
