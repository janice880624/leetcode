{
 "cells": [
  {
   "attachments": {},
   "cell_type": "markdown",
   "metadata": {},
   "source": [
    "### 1491. Average Salary Excluding the Minimum and Maximum Salary\n",
    "\n",
    "You are given an array of unique integers salary where salary[i] is the salary of the ith employee.\n",
    "\n",
    "Return the average salary of employees excluding the minimum and maximum salary. Answers within 10-5 of the actual answer will be accepted.\n",
    "\n",
    "#### Example 1:\n",
    "```\n",
    "Input: salary = [4000,3000,1000,2000]\n",
    "Output: 2500.00000\n",
    "Explanation: Minimum salary and maximum salary are 1000 and 4000 respectively.\n",
    "Average salary excluding minimum and maximum salary is (2000+3000) / 2 = 2500\n",
    "```\n",
    "\n",
    "#### Example 2:\n",
    "```\n",
    "Input: salary = [1000,2000,3000]\n",
    "Output: 2000.00000\n",
    "Explanation: Minimum salary and maximum salary are 1000 and 3000 respectively.\n",
    "Average salary excluding minimum and maximum salary is (2000) / 1 = 2000\n",
    "```\n",
    "\n",
    "#### Constraints:\n",
    "- 3 <= salary.length <= 100\n",
    "- 1000 <= salary[i] <= 106\n",
    "- All the integers of salary are unique.\n"
   ]
  },
  {
   "cell_type": "code",
   "execution_count": null,
   "metadata": {},
   "outputs": [],
   "source": [
    "class Solution:\n",
    "    def average(self, salary: List[int]) -> float:\n",
    "\n",
    "        return ((sum(salary)-max(salary)-min(salary))/(len(salary)-2))"
   ]
  },
  {
   "cell_type": "markdown",
   "metadata": {},
   "source": [
    "### Skill\n",
    "\n",
    "- max(list)\n",
    "  - This is a list from which max valued element to be returned.\n",
    "\n",
    "- min(list)\n",
    "  - This is a list from which min valued element to be returned.\n",
    "\n",
    "- len(list)\n",
    "  - This is a list for which number of elements to be counted.\n",
    "\n",
    "- sum(list)\n",
    "  - It adds up all the numbers in the list a and takes start to be 0, so returning only the sum of the numbers in the list."
   ]
  },
  {
   "cell_type": "markdown",
   "metadata": {},
   "source": []
  }
 ],
 "metadata": {
  "kernelspec": {
   "display_name": "Python 3",
   "language": "python",
   "name": "python3"
  },
  "language_info": {
   "name": "python",
   "version": "3.8.0 (tags/v3.8.0:fa919fd, Oct 14 2019, 19:37:50) [MSC v.1916 64 bit (AMD64)]"
  },
  "orig_nbformat": 4,
  "vscode": {
   "interpreter": {
    "hash": "f544ce1a915a9875fad91c894e2c0bcad4b7a79945aa6027ef3ad27810072aa6"
   }
  }
 },
 "nbformat": 4,
 "nbformat_minor": 2
}
