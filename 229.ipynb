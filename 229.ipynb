{
 "cells": [
  {
   "attachments": {},
   "cell_type": "markdown",
   "metadata": {},
   "source": [
    "### 229. Majority Element II\n",
    "\n",
    "Given an integer array of size `n`, find all elements that appear more than `⌊ n/3 ⌋` times.\n",
    "#### Example 1:\n",
    "```\n",
    "Input: nums = [3,2,3]\n",
    "Output: [3]\n",
    "```\n",
    "\n",
    "#### Example 2:\n",
    "```\n",
    "Input: nums = [1]\n",
    "Output: [1]\n",
    "```\n",
    "\n",
    "#### Example 3:\n",
    "```\n",
    "Input: nums = [1,2]\n",
    "Output: [1,2]\n",
    "```\n",
    "\n",
    "#### Constraints:\n",
    "- ```1 <= nums.length <= 5 * 10^4```\n",
    "\n",
    "- ```-10^9 <= nums[i] <= 10^9```"
   ]
  },
  {
   "cell_type": "code",
   "execution_count": null,
   "metadata": {},
   "outputs": [],
   "source": [
    "class Solution:\n",
    "    def countOdds(self, low: int, high: int) -> int:\n",
    "\n",
    "        if (low % 2 == 0):\n",
    "            low += 1 \n",
    "\n",
    "        if (high % 2 == 0):\n",
    "            high -= 1 \n",
    "        \n",
    "        if (high - low == 0):   \n",
    "            return 1\n",
    "\n",
    "        return int((high - low) / 2) + 1"
   ]
  },
  {
   "cell_type": "markdown",
   "metadata": {},
   "source": [
    "### Skill\n",
    "\n",
    "- ```+```\t加\n",
    "- ```-```\t減\n",
    "- ```*```\t乘\n",
    "- ```/```\t除\n",
    "- ```**```\t次方\n",
    "- ```%```\t回傳餘數\n",
    "- ```//```\t回傳商數"
   ]
  }
 ],
 "metadata": {
  "kernelspec": {
   "display_name": "Python 3",
   "language": "python",
   "name": "python3"
  },
  "language_info": {
   "name": "python",
   "version": "3.8.0 (tags/v3.8.0:fa919fd, Oct 14 2019, 19:37:50) [MSC v.1916 64 bit (AMD64)]"
  },
  "orig_nbformat": 4,
  "vscode": {
   "interpreter": {
    "hash": "f544ce1a915a9875fad91c894e2c0bcad4b7a79945aa6027ef3ad27810072aa6"
   }
  }
 },
 "nbformat": 4,
 "nbformat_minor": 2
}
