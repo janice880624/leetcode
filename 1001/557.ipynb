{
 "cells": [
  {
   "attachments": {},
   "cell_type": "markdown",
   "metadata": {},
   "source": [
    "### 557. Reverse Words in a String III\n",
    "\n",
    "Given a string `s`, reverse the order of characters in each word within a sentence while still preserving whitespace and initial word order.\n",
    "\n",
    "\n",
    "#### Example 1:\n",
    "```\n",
    "Input: s = \"Let's take LeetCode contest\"\n",
    "Output: \"s'teL ekat edoCteeL tsetnoc\"\n",
    "```\n",
    "\n",
    "#### Example 2:\n",
    "```\n",
    "Input: s = \"God Ding\"\n",
    "Output: \"doG gniD\"\n",
    "```\n",
    "\n",
    "#### Constraints:\n",
    "- ``` 1 <= s.length <= 5 * 104 ```\n",
    "- `s` contains printable **ASCII** characters.\n",
    "- `s` does not contain any leading or trailing spaces.\n",
    "- There is **at least one** word in `s`.\n",
    "- All the words in `s` are separated by a single space."
   ]
  },
  {
   "cell_type": "code",
   "execution_count": null,
   "metadata": {},
   "outputs": [],
   "source": [
    "class Solution:\n",
    "    def subtractProductAndSum(self, n: int) -> int:\n",
    "        pro_d = 1\n",
    "        sum_d = 0\n",
    "        for i in str(n):\n",
    "            pro_d *= int(i)\n",
    "            sum_d += int(i)\n",
    "        return(pro_d - sum_d)"
   ]
  },
  {
   "cell_type": "markdown",
   "metadata": {},
   "source": [
    "- [Python map() 函数](https://www.runoob.com/python/python-func-map.html)\n",
    "- [Python lambda 函数](https://www.runoob.com/python/python-func-lambda.html)\n",
    "- [綜合用法](https://blog.51cto.com/u_14223370/3706663)"
   ]
  }
 ],
 "metadata": {
  "kernelspec": {
   "display_name": "Python 3",
   "language": "python",
   "name": "python3"
  },
  "language_info": {
   "name": "python",
   "version": "3.8.0 (tags/v3.8.0:fa919fd, Oct 14 2019, 19:37:50) [MSC v.1916 64 bit (AMD64)]"
  },
  "orig_nbformat": 4,
  "vscode": {
   "interpreter": {
    "hash": "f544ce1a915a9875fad91c894e2c0bcad4b7a79945aa6027ef3ad27810072aa6"
   }
  }
 },
 "nbformat": 4,
 "nbformat_minor": 2
}
