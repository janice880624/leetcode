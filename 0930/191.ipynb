{
 "cells": [
  {
   "attachments": {},
   "cell_type": "markdown",
   "metadata": {},
   "source": [
    "### 191. Number of 1 Bits\n",
    "\n",
    "Write a function that takes an unsigned integer and returns the number of '1' bits it has (also known as the Hamming weight).\n",
    "\n",
    "Note:\n",
    "\n",
    "- Note that in some languages, such as Java, there is no unsigned integer type. In this case, the input will be given as a signed integer type. It should not affect your implementation, as the integer's internal binary representation is the same, whether it is signed or unsigned.\n",
    "- In Java, the compiler represents the signed integers using 2's complement notation. Therefore, in **Example 3**, the input represents the signed integer. -3.\n",
    " \n",
    "\n",
    "#### Example 1:\n",
    "```\n",
    "Input: n = 00000000000000000000000000001011\n",
    "Output: 3\n",
    "Explanation: The input binary string 00000000000000000000000000001011 has a total of three '1' bits.\n",
    "```\n",
    "\n",
    "#### Example 2:\n",
    "```\n",
    "Input: n = 00000000000000000000000010000000\n",
    "Output: 1\n",
    "Explanation: The input binary string 00000000000000000000000010000000 has a total of one '1' bit.\n",
    "```\n",
    "\n",
    "#### Example 3:\n",
    "```\n",
    "Input: n = 11111111111111111111111111111101\n",
    "Output: 31\n",
    "Explanation: The input binary string 11111111111111111111111111111101 has a total of thirty one '1' bits.\n",
    "```\n",
    "\n",
    "#### Constraints:\n",
    "- The input must be a **binary string** of length `32`."
   ]
  },
  {
   "cell_type": "code",
   "execution_count": null,
   "metadata": {},
   "outputs": [],
   "source": [
    "class Solution:\n",
    "    def hammingWeight(self, n: int) -> int:\n",
    "        return bin(n).count('1')"
   ]
  },
  {
   "attachments": {},
   "cell_type": "markdown",
   "metadata": {},
   "source": [
    "### Skill\n",
    "\n",
    "- bin( )\n",
    "  - This method converts a specified integer number to its binary representation and returns it.\n",
    "\n",
    "- count( )\n",
    "  - This method returns the number of occurrences of a substring in the given string"
   ]
  }
 ],
 "metadata": {
  "kernelspec": {
   "display_name": "Python 3",
   "language": "python",
   "name": "python3"
  },
  "language_info": {
   "name": "python",
   "version": "3.8.0 (tags/v3.8.0:fa919fd, Oct 14 2019, 19:37:50) [MSC v.1916 64 bit (AMD64)]"
  },
  "orig_nbformat": 4,
  "vscode": {
   "interpreter": {
    "hash": "f544ce1a915a9875fad91c894e2c0bcad4b7a79945aa6027ef3ad27810072aa6"
   }
  }
 },
 "nbformat": 4,
 "nbformat_minor": 2
}
