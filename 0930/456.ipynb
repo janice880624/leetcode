{
 "cells": [
  {
   "attachments": {},
   "cell_type": "markdown",
   "metadata": {},
   "source": [
    "### 456. 132 Pattern\n",
    "\n",
    "Given an array of n integers `nums`, a *132 pattern* is a subsequence of three integers `nums[i]`, `nums[j]` and `nums[k]` such that `i < j < k` and `nums[i]` < `nums[k]` < `nums[j]`.\n",
    "\n",
    "Return `true` if there is a *132 pattern* in `nums`, otherwise, return `false`.\n",
    " \n",
    "\n",
    "#### Example 1:\n",
    "```\n",
    "Input: nums = [1,2,3,4]\n",
    "Output: false\n",
    "Explanation: There is no 132 pattern in the sequence.\n",
    "```\n",
    "\n",
    "#### Example 2:\n",
    "```\n",
    "Input: nums = [3,1,4,2]\n",
    "Output: true\n",
    "Explanation: There is a 132 pattern in the sequence: [1, 4, 2].\n",
    "```\n",
    "\n",
    "#### Example 3:\n",
    "```\n",
    "Input: nums = [-1,3,2,0]\n",
    "Output: true\n",
    "Explanation: There are three 132 patterns in the sequence: [-1, 3, 2], [-1, 3, 0] and [-1, 2, 0].\n",
    "```\n",
    "\n",
    "#### Constraints:\n",
    "- ```n == nums.length```\n",
    "- ```1 <= n <= 2 * 10^5```\n",
    "- ```-10^9 <= nums[i] <= 10^9```"
   ]
  },
  {
   "cell_type": "code",
   "execution_count": null,
   "metadata": {},
   "outputs": [],
   "source": [
    "# 在一個序列中找到132的模式，就是第一個數小於第二第三個數，且第三個數小於第二個數\n"
   ]
  },
  {
   "cell_type": "code",
   "execution_count": null,
   "metadata": {},
   "outputs": [],
   "source": [
    "class Solution:\n",
    "    def find132pattern(self, nums: List[int]) -> bool:\n",
    "        if len(nums) < 3:\n",
    "            return False\n",
    "        right = float('-inf')\n",
    "        stack = []\n",
    "        for i in range(len(nums)-1, -1, -1):\n",
    "            if nums[i] < right:\n",
    "                return True\n",
    "            else:\n",
    "                while stack and stack[-1] < nums[i]:\n",
    "                    right = stack.pop()\n",
    "            stack.append(nums[i])\n",
    "        return False"
   ]
  },
  {
   "attachments": {},
   "cell_type": "markdown",
   "metadata": {},
   "source": [
    "### Skill\n",
    "\n",
    "- bin( )\n",
    "  - This method converts a specified integer number to its binary representation and returns it.\n",
    "\n",
    "- count( )\n",
    "  - This method returns the number of occurrences of a substring in the given string"
   ]
  }
 ],
 "metadata": {
  "kernelspec": {
   "display_name": "Python 3",
   "language": "python",
   "name": "python3"
  },
  "language_info": {
   "name": "python",
   "version": "3.8.0 (tags/v3.8.0:fa919fd, Oct 14 2019, 19:37:50) [MSC v.1916 64 bit (AMD64)]"
  },
  "orig_nbformat": 4,
  "vscode": {
   "interpreter": {
    "hash": "f544ce1a915a9875fad91c894e2c0bcad4b7a79945aa6027ef3ad27810072aa6"
   }
  }
 },
 "nbformat": 4,
 "nbformat_minor": 2
}
