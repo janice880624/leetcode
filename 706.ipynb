{
 "cells": [
  {
   "attachments": {},
   "cell_type": "markdown",
   "metadata": {},
   "source": [
    "### 706. Design HashMap\n",
    "\n",
    "Design a HashMap without using any built-in hash table libraries.\n",
    "\n",
    "Implement the  `MyHashMap` class:\n",
    "\n",
    "- `MyHashMap()` initializes the object with an empty map.\n",
    "- `void put(int key, int value)` inserts a `(key, value)` pair into the HashMap. If the `key` already exists in the map, update the corresponding value.\n",
    "- `int get(int key)` returns the `value` to which the specified `key` is mapped, or `-1` if this map contains no mapping for the `key`.\n",
    "- `void remove(key)` removes the `key` and its corresponding `value` if the map contains the mapping for the `key`.\n",
    "\n",
    "#### Example 1:\n",
    "```\n",
    "Input\n",
    "[\"MyHashMap\", \"put\", \"put\", \"get\", \"get\", \"put\", \"get\", \"remove\", \"get\"]\n",
    "[[], [1, 1], [2, 2], [1], [3], [2, 1], [2], [2], [2]]\n",
    "Output\n",
    "[null, null, null, 1, -1, null, 1, null, -1]\n",
    "\n",
    "Explanation\n",
    "MyHashMap myHashMap = new MyHashMap();\n",
    "myHashMap.put(1, 1); // The map is now [[1,1]]\n",
    "myHashMap.put(2, 2); // The map is now [[1,1], [2,2]]\n",
    "myHashMap.get(1);    // return 1, The map is now [[1,1], [2,2]]\n",
    "myHashMap.get(3);    // return -1 (i.e., not found), The map is now [[1,1], [2,2]]\n",
    "myHashMap.put(2, 1); // The map is now [[1,1], [2,1]] (i.e., update the existing value)\n",
    "myHashMap.get(2);    // return 1, The map is now [[1,1], [2,1]]\n",
    "myHashMap.remove(2); // remove the mapping for 2, The map is now [[1,1]]\n",
    "myHashMap.get(2);    // return -1 (i.e., not found), The map is now [[1,1]]\n",
    "```\n",
    "\n",
    "\n",
    "#### Constraints:\n",
    "- `0 <= key, value <= 10^6`\n",
    "- At most `10^4` calls will be made to `put`, `get`, and `remove`"
   ]
  },
  {
   "cell_type": "code",
   "execution_count": null,
   "metadata": {},
   "outputs": [],
   "source": [
    "class Solution:\n",
    "    def numIdenticalPairs(self, nums: List[int]) -> int:\n",
    "        result = 0\n",
    "        for i in range(len(nums)):\n",
    "            for j in range (i+1, len(nums)):\n",
    "                if (nums[i] == nums[j]):\n",
    "                    result += 1\n",
    "        return result"
   ]
  },
  {
   "cell_type": "code",
   "execution_count": 5,
   "metadata": {},
   "outputs": [
    {
     "name": "stdout",
     "output_type": "stream",
     "text": [
      "1\n",
      "{1: 1}\n",
      "0\n",
      "---\n",
      "2\n",
      "{1: 1, 2: 1}\n",
      "0\n",
      "---\n",
      "3\n",
      "{1: 1, 2: 1, 3: 1}\n",
      "0\n",
      "---\n",
      "1\n",
      "{1: 2, 2: 1, 3: 1}\n",
      "1\n",
      "---\n",
      "1\n",
      "{1: 3, 2: 1, 3: 1}\n",
      "3\n",
      "---\n",
      "3\n",
      "{1: 3, 2: 1, 3: 2}\n",
      "4\n",
      "---\n"
     ]
    }
   ],
   "source": [
    "nums = [1,2,3,1,1,3]\n",
    "\n",
    "output = 0\n",
    "dict_num = dict()\n",
    "\n",
    "\n",
    "for n in nums:\n",
    "    print(n)\n",
    "    if n in dict_num:\n",
    "        output += dict_num[n]\n",
    "        dict_num[n] += 1\n",
    "    else:\n",
    "        dict_num[n] = 1\n",
    "    print(dict_num)\n",
    "    print(output)\n",
    "    print('---')"
   ]
  },
  {
   "cell_type": "code",
   "execution_count": 6,
   "metadata": {},
   "outputs": [
    {
     "name": "stdout",
     "output_type": "stream",
     "text": [
      "1\n",
      "{1: 1}\n",
      "0\n",
      "---\n",
      "1\n",
      "{1: 2}\n",
      "1\n",
      "---\n",
      "1\n",
      "{1: 3}\n",
      "3\n",
      "---\n",
      "1\n",
      "{1: 4}\n",
      "6\n",
      "---\n"
     ]
    }
   ],
   "source": [
    "nums = [1,1,1,1]\n",
    "\n",
    "output = 0\n",
    "dict_num = dict()\n",
    "\n",
    "\n",
    "for n in nums:\n",
    "    print(n)\n",
    "    if n in dict_num:\n",
    "        output += dict_num[n]\n",
    "        dict_num[n] += 1\n",
    "    else:\n",
    "        dict_num[n] = 1\n",
    "        \n",
    "    print(dict_num)\n",
    "    print(output)\n",
    "    print('---')"
   ]
  },
  {
   "cell_type": "code",
   "execution_count": null,
   "metadata": {},
   "outputs": [],
   "source": []
  }
 ],
 "metadata": {
  "kernelspec": {
   "display_name": "Python 3",
   "language": "python",
   "name": "python3"
  },
  "language_info": {
   "codemirror_mode": {
    "name": "ipython",
    "version": 3
   },
   "file_extension": ".py",
   "mimetype": "text/x-python",
   "name": "python",
   "nbconvert_exporter": "python",
   "pygments_lexer": "ipython3",
   "version": "3.8.0"
  },
  "orig_nbformat": 4,
  "vscode": {
   "interpreter": {
    "hash": "f544ce1a915a9875fad91c894e2c0bcad4b7a79945aa6027ef3ad27810072aa6"
   }
  }
 },
 "nbformat": 4,
 "nbformat_minor": 2
}
