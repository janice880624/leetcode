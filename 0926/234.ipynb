{
 "cells": [
  {
   "cell_type": "markdown",
   "metadata": {},
   "source": [
    "### 234. Palindrome Linked List\n",
    "\n",
    "Given the `head` of a singly linked list, return `true` if it is a \n",
    "palindrome or `false` otherwise.\n",
    "\n",
    "\n",
    "#### Example 1:\n",
    "![](https://assets.leetcode.com/uploads/2021/03/03/pal1linked-list.jpg)\n",
    "```\n",
    "Input: head = [1,2,2,1]\n",
    "Output: true\n",
    "```\n",
    "\n",
    "#### Example 2:\n",
    "![](https://assets.leetcode.com/uploads/2021/03/03/pal2linked-list.jpg)\n",
    "```\n",
    "Input: head = [1,2]\n",
    "Output: false\n",
    "```\n",
    "\n",
    "\n",
    "#### Constraints:\n",
    "- The number of nodes in the list is in the range `[1, 10^5]`\n",
    "- ``` 0 <= Node.val <= 9 ```"
   ]
  },
  {
   "cell_type": "code",
   "execution_count": null,
   "metadata": {},
   "outputs": [],
   "source": [
    "# Definition for singly-linked list.\n",
    "# class ListNode:\n",
    "#     def __init__(self, val=0, next=None):\n",
    "#         self.val = val\n",
    "#         self.next = next\n",
    "class Solution:\n",
    "    def isPalindrome(self, head: Optional[ListNode]) -> bool:\n",
    "        result = []\n",
    "\n",
    "        while head:\n",
    "            result.append(head.val)\n",
    "            head = head.next\n",
    "\n",
    "        strA = \"\".join([str(_) for _ in result])\n",
    "\n",
    "        if (strA == strA[::-1]):\n",
    "            return True\n",
    "        else:\n",
    "            return False"
   ]
  },
  {
   "cell_type": "code",
   "execution_count": null,
   "metadata": {},
   "outputs": [],
   "source": []
  }
 ],
 "metadata": {
  "kernelspec": {
   "display_name": "Python 3",
   "language": "python",
   "name": "python3"
  },
  "language_info": {
   "codemirror_mode": {
    "name": "ipython",
    "version": 3
   },
   "file_extension": ".py",
   "mimetype": "text/x-python",
   "name": "python",
   "nbconvert_exporter": "python",
   "pygments_lexer": "ipython3",
   "version": "3.8.0"
  },
  "orig_nbformat": 4
 },
 "nbformat": 4,
 "nbformat_minor": 2
}
