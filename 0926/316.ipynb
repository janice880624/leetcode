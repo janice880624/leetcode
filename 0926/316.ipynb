{
 "cells": [
  {
   "cell_type": "markdown",
   "metadata": {},
   "source": [
    "### 316. Remove Duplicate Letters\n",
    "\n",
    "Given a string `s`, remove duplicate letters so that every letter appears once and only once. You must make sure your result is \n",
    "the smallest in lexicographical order among all possible results.\n",
    "\n",
    "#### Example 1:\n",
    "```\n",
    "Input: s = \"bcabc\"\n",
    "Output: \"abc\"\n",
    "```\n",
    "\n",
    "#### Example 2:\n",
    "```\n",
    "Input: s = \"cbacdcbc\"\n",
    "Output: \"acdb\"\n",
    "```\n",
    "\n",
    "#### Constraints:\n",
    "- ``` 1 <= s.length <= 104 ```\n",
    "- `s` consists of lowercase English letters."
   ]
  },
  {
   "cell_type": "code",
   "execution_count": null,
   "metadata": {},
   "outputs": [],
   "source": [
    "# 如果一個字母只出現一次，這個字母必須被選取\n",
    "# 按照字母升序排列的字符串肯定是字典序最小的\n",
    "# 當前看到的字母若已出現在棧中，它一定不是某段單調遞新增字母的最後一個字母"
   ]
  },
  {
   "cell_type": "code",
   "execution_count": null,
   "metadata": {},
   "outputs": [],
   "source": [
    "class Solution:\n",
    "    def removeDuplicateLetters(self, s: str) -> str:\n",
    "        d = {char: indx for indx, char in enumerate(s)}\n",
    "\n",
    "        res = []\n",
    "        \n",
    "        for indx, char in enumerate(s):\n",
    "            if char not in res:\n",
    "                while res and indx < d[res[-1]] and char < res[-1] :\n",
    "                    res.pop()\n",
    "                res.append(char)\n",
    "\n",
    "        return \"\".join(res)"
   ]
  }
 ],
 "metadata": {
  "language_info": {
   "name": "python"
  },
  "orig_nbformat": 4
 },
 "nbformat": 4,
 "nbformat_minor": 2
}
